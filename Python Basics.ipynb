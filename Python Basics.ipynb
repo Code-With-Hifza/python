{
 "cells": [
  {
   "cell_type": "markdown",
   "id": "97861144-6c44-4210-b988-7532ac51d1de",
   "metadata": {},
   "source": [
    "# Python Datatypes"
   ]
  },
  {
   "cell_type": "markdown",
   "id": "a0ffc9b0-8f9e-40de-b598-06026dc8376c",
   "metadata": {},
   "source": [
    "Following are different datatypes in python"
   ]
  },
  {
   "cell_type": "code",
   "execution_count": 1,
   "id": "f6597922-2b9b-4f53-bd8c-a4dd5de45d47",
   "metadata": {},
   "outputs": [
    {
     "data": {
      "text/plain": [
       "dict"
      ]
     },
     "execution_count": 1,
     "metadata": {},
     "output_type": "execute_result"
    }
   ],
   "source": [
    "int\n",
    "float\n",
    "bool\n",
    "str\n",
    "list\n",
    "tuple\n",
    "set\n",
    "dict\n"
   ]
  },
  {
   "cell_type": "markdown",
   "id": "9212a8ea-fa77-4d97-b4cc-f0c7ff4ffa73",
   "metadata": {},
   "source": [
    "# 1. Integer"
   ]
  },
  {
   "cell_type": "code",
   "execution_count": 2,
   "id": "3399b0e4-b87c-468a-a807-06e567d3f4eb",
   "metadata": {},
   "outputs": [
    {
     "name": "stdout",
     "output_type": "stream",
     "text": [
      "6\n",
      "-2\n",
      "8\n",
      "0.5\n"
     ]
    }
   ],
   "source": [
    "print (2 + 4)\n",
    "print (2-4)\n",
    "print (2*4)\n",
    "print (2/4)"
   ]
  },
  {
   "cell_type": "code",
   "execution_count": 3,
   "id": "931341b6-10f0-4b69-98c5-829908b819ec",
   "metadata": {},
   "outputs": [
    {
     "name": "stdout",
     "output_type": "stream",
     "text": [
      "<class 'int'>\n",
      "<class 'int'>\n",
      "<class 'int'>\n",
      "<class 'float'>\n"
     ]
    }
   ],
   "source": [
    "print (type(2 + 4))\n",
    "print (type(2-4))\n",
    "print (type(2*4))\n",
    "print (type(2/4))"
   ]
  },
  {
   "cell_type": "code",
   "execution_count": 4,
   "id": "d5f7ca50-1946-437f-bf2b-14e3f376c650",
   "metadata": {},
   "outputs": [
    {
     "name": "stdout",
     "output_type": "stream",
     "text": [
      "<class 'float'>\n"
     ]
    }
   ],
   "source": [
    "print(type(20+1.1))"
   ]
  },
  {
   "cell_type": "code",
   "execution_count": 5,
   "id": "709e3196-33bd-4ce0-8f51-510c3391934a",
   "metadata": {},
   "outputs": [
    {
     "name": "stdout",
     "output_type": "stream",
     "text": [
      "8\n"
     ]
    }
   ],
   "source": [
    "print(2**3)"
   ]
  },
  {
   "cell_type": "code",
   "execution_count": 6,
   "id": "5d683f67-dfc9-4ef5-a6a6-497d38777b52",
   "metadata": {},
   "outputs": [
    {
     "name": "stdout",
     "output_type": "stream",
     "text": [
      "1\n"
     ]
    }
   ],
   "source": [
    "print(5 // 4)   # Returns quotient integer part"
   ]
  },
  {
   "cell_type": "code",
   "execution_count": 7,
   "id": "0f3dc3ea-091f-44cf-8cee-5a9c940e5817",
   "metadata": {},
   "outputs": [
    {
     "name": "stdout",
     "output_type": "stream",
     "text": [
      "1\n"
     ]
    }
   ],
   "source": [
    "print(5 % 4)  # Returns Remiander"
   ]
  },
  {
   "cell_type": "markdown",
   "id": "fe9f9098-5392-413e-ab44-214e948b5cbb",
   "metadata": {},
   "source": [
    "# Math Functions"
   ]
  },
  {
   "cell_type": "code",
   "execution_count": 8,
   "id": "6f340683-b5c6-46f7-b4ed-c79fb88a4fc7",
   "metadata": {},
   "outputs": [
    {
     "name": "stdout",
     "output_type": "stream",
     "text": [
      "3\n"
     ]
    }
   ],
   "source": [
    "print(round(3.1))"
   ]
  },
  {
   "cell_type": "code",
   "execution_count": 9,
   "id": "50b6f5db-ab97-4cb0-bc15-29d11a55b550",
   "metadata": {},
   "outputs": [
    {
     "name": "stdout",
     "output_type": "stream",
     "text": [
      "20\n"
     ]
    }
   ],
   "source": [
    "print(abs(-20)) # Returns absolute value of a number"
   ]
  },
  {
   "cell_type": "code",
   "execution_count": null,
   "id": "d3627229-2c63-464c-ac4f-7dc7f2992691",
   "metadata": {},
   "outputs": [],
   "source": []
  },
  {
   "cell_type": "code",
   "execution_count": 10,
   "id": "23ed4b38-d435-49c6-ae23-047ab43c9aa2",
   "metadata": {},
   "outputs": [
    {
     "name": "stdout",
     "output_type": "stream",
     "text": [
      "1.0\n"
     ]
    }
   ],
   "source": [
    "import math\n",
    "\n",
    "# Now you can use the cos function from the math module\n",
    "print(math.cos(0))"
   ]
  },
  {
   "cell_type": "markdown",
   "id": "6e923306-79c6-4aa5-a9ce-910c90bc063f",
   "metadata": {},
   "source": [
    "# Operator Precedence"
   ]
  },
  {
   "cell_type": "code",
   "execution_count": 11,
   "id": "df7ec0f9-b7d3-49e0-b791-83b5fae09fd1",
   "metadata": {},
   "outputs": [],
   "source": [
    "# ()        # Parenthesis\n",
    "# **        # Power\n",
    "# * /       # Multiply, Divide\n",
    "# + -       # Addition, Subtraction"
   ]
  },
  {
   "cell_type": "code",
   "execution_count": 12,
   "id": "68d381bd-938b-4f67-bb75-e32f1575ec54",
   "metadata": {},
   "outputs": [
    {
     "name": "stdout",
     "output_type": "stream",
     "text": [
      "32\n"
     ]
    }
   ],
   "source": [
    "print(20 + 3 * 4)"
   ]
  },
  {
   "cell_type": "code",
   "execution_count": 13,
   "id": "d18b9b2d-5d2a-481b-9334-f6884ad30b26",
   "metadata": {},
   "outputs": [
    {
     "name": "stdout",
     "output_type": "stream",
     "text": [
      "8\n"
     ]
    }
   ],
   "source": [
    "print(20 - 3 * 4 )"
   ]
  },
  {
   "cell_type": "markdown",
   "id": "4c48d370-b8f1-45ee-a92a-850981287e55",
   "metadata": {},
   "source": [
    "# Converting Decimal To Binary"
   ]
  },
  {
   "cell_type": "code",
   "execution_count": 14,
   "id": "2d086dec-bdcb-47b6-9ca1-b7ed130d6420",
   "metadata": {},
   "outputs": [
    {
     "data": {
      "text/plain": [
       "'0b101'"
      ]
     },
     "execution_count": 14,
     "metadata": {},
     "output_type": "execute_result"
    }
   ],
   "source": [
    "bin(5)    # Binary Numbers"
   ]
  },
  {
   "cell_type": "markdown",
   "id": "fea2777e-8feb-435a-b90b-c93a8d023652",
   "metadata": {},
   "source": [
    "# Converting Binary to Decimal"
   ]
  },
  {
   "cell_type": "code",
   "execution_count": 15,
   "id": "a1e96313-068f-495c-9f44-e65ea4321c13",
   "metadata": {},
   "outputs": [
    {
     "name": "stdout",
     "output_type": "stream",
     "text": [
      "5\n"
     ]
    }
   ],
   "source": [
    "print(int('0b101',2))"
   ]
  },
  {
   "cell_type": "markdown",
   "id": "39329059-48f0-470f-9fcc-726b73a1414e",
   "metadata": {},
   "source": [
    "# Variables"
   ]
  },
  {
   "cell_type": "markdown",
   "id": "6278fe08-4ce5-423f-a56b-a512af9f3f13",
   "metadata": {},
   "source": [
    "Variables are containers for storing values or data.\n",
    "Python has no command for declaring a variable.\n",
    "\n",
    "A variable is created the moment you first assign a value to it."
   ]
  },
  {
   "cell_type": "markdown",
   "id": "b348e4a2-b04d-4c3a-b50d-1238925dce8f",
   "metadata": {},
   "source": [
    "## Naming Conventions"
   ]
  },
  {
   "cell_type": "markdown",
   "id": "088e334a-362a-4514-9fde-e8968c149d0e",
   "metadata": {},
   "source": [
    "- A variable name must start with a letter or the underscore character. \n",
    "- A variable name cannot start with a number.\n",
    "- A variable name can only contain alpha-numeric characters and underscores (A-z, 0-9, and _ ).\n",
    "- Variable names are case-sensitive (age, Age and AGE are three different variables)"
   ]
  },
  {
   "cell_type": "code",
   "execution_count": 16,
   "id": "9b07bd6a-5f36-470c-a8e5-0c65f9894b43",
   "metadata": {},
   "outputs": [
    {
     "name": "stdout",
     "output_type": "stream",
     "text": [
      "5\n",
      "John\n"
     ]
    }
   ],
   "source": [
    "x = 5\n",
    "y = \"John\"\n",
    "print(x)\n",
    "print(y)"
   ]
  },
  {
   "cell_type": "code",
   "execution_count": 17,
   "id": "123b10cc-de65-4fbc-b7fe-cdb34c7a5873",
   "metadata": {},
   "outputs": [
    {
     "name": "stdout",
     "output_type": "stream",
     "text": [
      "Sally\n"
     ]
    }
   ],
   "source": [
    "x = 4       # x is of type int\n",
    "x = \"Sally\" # x is now of type str\n",
    "print(x)"
   ]
  },
  {
   "cell_type": "code",
   "execution_count": null,
   "id": "b2d1d875-ff47-4661-81bd-6db7a43bba06",
   "metadata": {},
   "outputs": [],
   "source": []
  },
  {
   "cell_type": "markdown",
   "id": "0cefd99c-12f9-4379-9dd8-24719559e839",
   "metadata": {},
   "source": [
    "# Expression Vs Statements"
   ]
  },
  {
   "cell_type": "markdown",
   "id": "84f2c7d3-1474-4a19-ab35-2a5e0ca86653",
   "metadata": {},
   "source": [
    "Expression: A piece of code that produces a value e.g 6/2, 3*5\n",
    "\n",
    "Statement: A statement is an entire line of code e.g. print(\"Hello World\")"
   ]
  },
  {
   "cell_type": "markdown",
   "id": "700343ff-4af5-44e1-84a0-388530070c8b",
   "metadata": {},
   "source": [
    "# Augment Assignment Operator"
   ]
  },
  {
   "cell_type": "code",
   "execution_count": 18,
   "id": "e500d5e2-1395-486d-88bf-c69170366ea0",
   "metadata": {},
   "outputs": [
    {
     "name": "stdout",
     "output_type": "stream",
     "text": [
      "15\n"
     ]
    }
   ],
   "source": [
    "some_value = 5\n",
    "some_value += 10\n",
    "print(some_value)"
   ]
  },
  {
   "cell_type": "markdown",
   "id": "1e81411f-28f4-4ae5-a62e-96d0e7e13ad4",
   "metadata": {},
   "source": [
    "# Strings"
   ]
  },
  {
   "cell_type": "code",
   "execution_count": 19,
   "id": "040d139d-9ac8-4ec2-841d-156256e650fb",
   "metadata": {},
   "outputs": [
    {
     "name": "stdout",
     "output_type": "stream",
     "text": [
      "<class 'str'>\n"
     ]
    }
   ],
   "source": [
    "name = \"10\"\n",
    "print(type(name))"
   ]
  },
  {
   "cell_type": "code",
   "execution_count": 20,
   "id": "30fde58f-76b0-4e0a-9504-71f4e530a417",
   "metadata": {},
   "outputs": [
    {
     "name": "stdout",
     "output_type": "stream",
     "text": [
      "<class 'str'>\n"
     ]
    }
   ],
   "source": [
    "print(type(name))"
   ]
  },
  {
   "cell_type": "code",
   "execution_count": 21,
   "id": "3535b6d0-5611-428a-a3b1-a00476cc35e6",
   "metadata": {},
   "outputs": [
    {
     "name": "stdout",
     "output_type": "stream",
     "text": [
      "Ali\n"
     ]
    }
   ],
   "source": [
    "name2='Ali'\n",
    "print(name2)"
   ]
  },
  {
   "cell_type": "code",
   "execution_count": 22,
   "id": "7c5d2102-7b35-4a9f-a81d-37f36b07760a",
   "metadata": {},
   "outputs": [
    {
     "name": "stdout",
     "output_type": "stream",
     "text": [
      "\n",
      "WOW\n",
      "O O\n",
      "---\n",
      "\n"
     ]
    }
   ],
   "source": [
    "long_string = '''\n",
    "WOW\n",
    "O O\n",
    "---\n",
    "'''\n",
    "print(long_string)"
   ]
  },
  {
   "cell_type": "markdown",
   "id": "e43fe4cb-5257-4652-b2cd-610d0f87fca6",
   "metadata": {},
   "source": [
    "# Strings Concatenation"
   ]
  },
  {
   "cell_type": "code",
   "execution_count": 23,
   "id": "6c79335a-3947-4395-a92b-9f60b00062be",
   "metadata": {},
   "outputs": [],
   "source": [
    "first_name = \"Raza\"\n",
    "last_name = \"Kazmi\""
   ]
  },
  {
   "cell_type": "code",
   "execution_count": 24,
   "id": "37121934-349d-46e2-af9c-a6301013cffd",
   "metadata": {},
   "outputs": [
    {
     "name": "stdout",
     "output_type": "stream",
     "text": [
      "Raza Kazmi\n"
     ]
    }
   ],
   "source": [
    "full_name = first_name + ' '+ last_name\n",
    "print(full_name)"
   ]
  },
  {
   "cell_type": "code",
   "execution_count": 25,
   "id": "e4ae345a-81ce-45ea-b534-aad5062a5b6f",
   "metadata": {},
   "outputs": [
    {
     "name": "stdout",
     "output_type": "stream",
     "text": [
      "Raza Kazmi\n"
     ]
    }
   ],
   "source": [
    "full_name = first_name + ' '+ last_name\n",
    "print(full_name)"
   ]
  },
  {
   "cell_type": "markdown",
   "id": "919b6afd-a0c8-45e0-98a8-f18745c8bbc8",
   "metadata": {},
   "source": [
    "# Type Conversion"
   ]
  },
  {
   "cell_type": "code",
   "execution_count": 26,
   "id": "de7cecd0-2756-4f3a-b935-88e36c67ec55",
   "metadata": {},
   "outputs": [
    {
     "name": "stdout",
     "output_type": "stream",
     "text": [
      "<class 'str'>\n",
      "<class 'int'>\n",
      "<class 'float'>\n"
     ]
    }
   ],
   "source": [
    "x = str(3)\n",
    "y = int(3)\n",
    "z = float(3)\n",
    "\n",
    "print(type(x))\n",
    "print(type(y))\n",
    "print(type(z))\n"
   ]
  },
  {
   "cell_type": "code",
   "execution_count": 27,
   "id": "8371435e-f1c9-411b-bf5a-5cbfe6c1d768",
   "metadata": {},
   "outputs": [
    {
     "name": "stdout",
     "output_type": "stream",
     "text": [
      "<class 'int'>\n"
     ]
    }
   ],
   "source": [
    "num=10\n",
    "print(type(num))"
   ]
  },
  {
   "cell_type": "code",
   "execution_count": 28,
   "id": "ccfc8746-6233-438d-a796-de1072883784",
   "metadata": {},
   "outputs": [],
   "source": [
    "num_string = str(num)"
   ]
  },
  {
   "cell_type": "code",
   "execution_count": 29,
   "id": "9814ea42-8d39-4658-a07f-902b9a0138d3",
   "metadata": {},
   "outputs": [
    {
     "name": "stdout",
     "output_type": "stream",
     "text": [
      "<class 'str'>\n"
     ]
    }
   ],
   "source": [
    "print(type(num_string))"
   ]
  },
  {
   "cell_type": "markdown",
   "id": "56239058-86c8-4a14-bd71-9eb51070969a",
   "metadata": {},
   "source": [
    "# What will be the Output?"
   ]
  },
  {
   "cell_type": "code",
   "execution_count": 30,
   "id": "ff034dbd-6880-4e83-b71b-eb181a4a13a8",
   "metadata": {},
   "outputs": [
    {
     "name": "stdout",
     "output_type": "stream",
     "text": [
      "100\n"
     ]
    }
   ],
   "source": [
    "# print(type(int(str(100))))\n",
    "print(str(100))"
   ]
  },
  {
   "cell_type": "markdown",
   "id": "67e82c43-7010-4c15-9767-1a70c15f9573",
   "metadata": {},
   "source": [
    "# Escape Sequence in Python"
   ]
  },
  {
   "cell_type": "markdown",
   "id": "c484b4ec-6688-44a4-a5f0-6c66038c1514",
   "metadata": {},
   "source": [
    "Print the following string:\n",
    "#### It's \"kind of\" sunny"
   ]
  },
  {
   "cell_type": "code",
   "execution_count": 31,
   "id": "337dc6ff-29db-4293-af0e-6d6e7f86fd36",
   "metadata": {},
   "outputs": [],
   "source": [
    "weather = \" It\\'s \\\"kind of\\\" sunny\""
   ]
  },
  {
   "cell_type": "code",
   "execution_count": 32,
   "id": "e7905b0e-92cc-45d4-9208-3e9df5a99e39",
   "metadata": {},
   "outputs": [
    {
     "name": "stdout",
     "output_type": "stream",
     "text": [
      " It's \"kind of\" sunny\n"
     ]
    }
   ],
   "source": [
    "print(weather)"
   ]
  },
  {
   "cell_type": "code",
   "execution_count": 33,
   "id": "84f35840-3651-4b52-be26-c62b6f7fcc0c",
   "metadata": {},
   "outputs": [],
   "source": [
    "weather = \" \\t It\\'s \\\"kind of\\\" sunny\""
   ]
  },
  {
   "cell_type": "code",
   "execution_count": 34,
   "id": "9222b5b5-5a10-4d24-a5bc-c5ffa5981749",
   "metadata": {},
   "outputs": [
    {
     "name": "stdout",
     "output_type": "stream",
     "text": [
      " \t It's \"kind of\" sunny\n"
     ]
    }
   ],
   "source": [
    "print(weather)"
   ]
  },
  {
   "cell_type": "code",
   "execution_count": 35,
   "id": "df3a10f8-8df4-4e90-ba33-dafcb25b7e43",
   "metadata": {},
   "outputs": [
    {
     "name": "stdout",
     "output_type": "stream",
     "text": [
      " It's \"kind of\" sunny \n",
      " hope you have a good day\n"
     ]
    }
   ],
   "source": [
    "weather = \" It\\'s \\\"kind of\\\" sunny \\n hope you have a good day\"\n",
    "print(weather)"
   ]
  },
  {
   "cell_type": "code",
   "execution_count": 36,
   "id": "8fffca2f-676d-4bcf-9a5e-b944d74beca8",
   "metadata": {},
   "outputs": [
    {
     "name": "stdout",
     "output_type": "stream",
     "text": [
      "Hello \bWorld!\n"
     ]
    }
   ],
   "source": [
    "# backspace\n",
    "\n",
    "#This example erases one character (backspace):\n",
    "txt = \"Hello \\bWorld!\"\n",
    "print(txt) \n"
   ]
  },
  {
   "cell_type": "markdown",
   "id": "ea33a673-b784-4687-b590-bc88a0d4ffd5",
   "metadata": {},
   "source": [
    "# Formatted Strings"
   ]
  },
  {
   "cell_type": "markdown",
   "id": "b5f3c4b0-e325-4138-b63a-c2263a8cdcc8",
   "metadata": {},
   "source": [
    "Format the below code using f string"
   ]
  },
  {
   "cell_type": "code",
   "execution_count": 37,
   "id": "cc47d72e-0f49-445e-9412-833f4f691e79",
   "metadata": {},
   "outputs": [
    {
     "name": "stdout",
     "output_type": "stream",
     "text": [
      "Hi Alice. You are 25 years old.\n"
     ]
    }
   ],
   "source": [
    "name = \"Alice\"\n",
    "age = 25\n",
    "\n",
    "print('Hi '+ name + '. You are ' + str(age) + ' years old.')"
   ]
  },
  {
   "cell_type": "markdown",
   "id": "5968b4fa-1548-4d1c-83f3-24c621dab557",
   "metadata": {},
   "source": [
    "Now we will format the above code using formatted string."
   ]
  },
  {
   "cell_type": "code",
   "execution_count": 53,
   "id": "e242679c-382f-431c-a1fc-5293851ac416",
   "metadata": {},
   "outputs": [
    {
     "name": "stdout",
     "output_type": "stream",
     "text": [
      "Hi Alice. You are 25 years old.\n"
     ]
    }
   ],
   "source": [
    "name = \"Alice\"\n",
    "age = 25\n",
    "\n",
    "print('Hi {}. You are {} years old.'.format(name,age))"
   ]
  },
  {
   "cell_type": "markdown",
   "id": "64b4e314-db0b-4141-b4f4-5f5932d9df43",
   "metadata": {},
   "source": [
    "Now we will format the above code using f string."
   ]
  },
  {
   "cell_type": "code",
   "execution_count": 55,
   "id": "8c0353bb-63bd-4fcf-90f4-281868787337",
   "metadata": {},
   "outputs": [
    {
     "name": "stdout",
     "output_type": "stream",
     "text": [
      "Hi Alice. You are 25 years old.\n"
     ]
    }
   ],
   "source": [
    "# Python 3\n",
    "name = \"Alice\"\n",
    "age = 25\n",
    "\n",
    "print(f'Hi {name}. You are {age} years old.')"
   ]
  },
  {
   "cell_type": "markdown",
   "id": "3fb3519a-a0aa-4625-b1df-7ec4cca7ce90",
   "metadata": {},
   "source": [
    "# Strings Indexes"
   ]
  },
  {
   "cell_type": "markdown",
   "id": "33a14535-ec34-4923-9abb-bc877226449c",
   "metadata": {},
   "source": [
    "Strings are stored in memory in order.\n",
    "e.g."
   ]
  },
  {
   "cell_type": "code",
   "execution_count": 56,
   "id": "bfd01591-03cc-4ab3-a4ab-21e5b20ec02c",
   "metadata": {},
   "outputs": [],
   "source": [
    "str = \"me me me\"\n",
    "#index:01234567"
   ]
  },
  {
   "cell_type": "code",
   "execution_count": 57,
   "id": "934a507e-67f6-4291-8e70-a4228afc6d59",
   "metadata": {},
   "outputs": [
    {
     "name": "stdout",
     "output_type": "stream",
     "text": [
      "m\n"
     ]
    }
   ],
   "source": [
    "print(str[0])"
   ]
  },
  {
   "cell_type": "code",
   "execution_count": 42,
   "id": "c016b289-42ea-4990-ab63-c2199386741e",
   "metadata": {},
   "outputs": [
    {
     "name": "stdout",
     "output_type": "stream",
     "text": [
      "e\n"
     ]
    }
   ],
   "source": [
    "print(str[7])"
   ]
  },
  {
   "cell_type": "markdown",
   "id": "73f2cc15-edd8-447d-82f6-e11fe980c0df",
   "metadata": {},
   "source": [
    "# Strings Slicing"
   ]
  },
  {
   "cell_type": "code",
   "execution_count": 43,
   "id": "8cbb4c76-5753-4099-a097-9926e68f631f",
   "metadata": {},
   "outputs": [
    {
     "name": "stdout",
     "output_type": "stream",
     "text": [
      "me m\n"
     ]
    }
   ],
   "source": [
    "print(str[0:4])"
   ]
  },
  {
   "cell_type": "markdown",
   "id": "4343eed4-6081-4a77-b82c-01fdf5beebbb",
   "metadata": {},
   "source": [
    "# Strings StepOver"
   ]
  },
  {
   "cell_type": "code",
   "execution_count": 58,
   "id": "62e29ff8-59f3-4360-9fb6-9b4bd4840700",
   "metadata": {},
   "outputs": [
    {
     "name": "stdout",
     "output_type": "stream",
     "text": [
      "me me me\n"
     ]
    }
   ],
   "source": [
    "print(str[0:8:1])"
   ]
  },
  {
   "cell_type": "code",
   "execution_count": 45,
   "id": "49db7373-ddb9-4df5-960a-3bd6aee361e8",
   "metadata": {},
   "outputs": [
    {
     "name": "stdout",
     "output_type": "stream",
     "text": [
      "234567\n"
     ]
    }
   ],
   "source": [
    "str1=\"1234567\"\n",
    "print(str1[1:])"
   ]
  },
  {
   "cell_type": "code",
   "execution_count": 46,
   "id": "bece575a-6e45-4fdc-a2fb-f7d3ff022396",
   "metadata": {},
   "outputs": [
    {
     "name": "stdout",
     "output_type": "stream",
     "text": [
      "12345\n"
     ]
    }
   ],
   "source": [
    "print(str1[:5])"
   ]
  },
  {
   "cell_type": "code",
   "execution_count": 47,
   "id": "9bf729d2-5dcc-4f30-9343-86a5a8b752c1",
   "metadata": {},
   "outputs": [
    {
     "name": "stdout",
     "output_type": "stream",
     "text": [
      "1234567\n"
     ]
    }
   ],
   "source": [
    "print(str1[::1])"
   ]
  },
  {
   "cell_type": "code",
   "execution_count": 48,
   "id": "fcf8b41e-f94c-460f-9675-2c53c42e5b59",
   "metadata": {},
   "outputs": [
    {
     "name": "stdout",
     "output_type": "stream",
     "text": [
      "5\n"
     ]
    }
   ],
   "source": [
    "print(str1[-3])"
   ]
  },
  {
   "cell_type": "code",
   "execution_count": 49,
   "id": "b1c0da11-a2b6-4e04-ac22-a362e0b88c56",
   "metadata": {},
   "outputs": [
    {
     "name": "stdout",
     "output_type": "stream",
     "text": [
      "7654321\n"
     ]
    }
   ],
   "source": [
    "print(str1[::-1])"
   ]
  },
  {
   "cell_type": "markdown",
   "id": "374d37f1-f353-4688-8db4-8d608dfbc5a0",
   "metadata": {},
   "source": [
    "# Strings Immutability"
   ]
  },
  {
   "cell_type": "markdown",
   "id": "7bd8a7ec-1ef1-440a-b3fb-93fd69443cf6",
   "metadata": {},
   "source": [
    "Strings are immutable."
   ]
  },
  {
   "cell_type": "code",
   "execution_count": 50,
   "id": "0f33d2d7-9755-4f93-84d5-70e46690f424",
   "metadata": {},
   "outputs": [],
   "source": [
    "name=\"Mike Hussey\"\n"
   ]
  },
  {
   "cell_type": "code",
   "execution_count": 51,
   "id": "631b1cc3-a867-40dc-a426-fa55f28523f3",
   "metadata": {},
   "outputs": [
    {
     "ename": "TypeError",
     "evalue": "'str' object does not support item assignment",
     "output_type": "error",
     "traceback": [
      "\u001b[1;31m---------------------------------------------------------------------------\u001b[0m",
      "\u001b[1;31mTypeError\u001b[0m                                 Traceback (most recent call last)",
      "\u001b[1;32m~\\AppData\\Local\\Temp\\ipykernel_7596\\407865097.py\u001b[0m in \u001b[0;36m<module>\u001b[1;34m\u001b[0m\n\u001b[1;32m----> 1\u001b[1;33m \u001b[0mname\u001b[0m\u001b[1;33m[\u001b[0m\u001b[1;36m0\u001b[0m\u001b[1;33m]\u001b[0m\u001b[1;33m=\u001b[0m\u001b[1;34m\"N\"\u001b[0m\u001b[1;33m\u001b[0m\u001b[1;33m\u001b[0m\u001b[0m\n\u001b[0m",
      "\u001b[1;31mTypeError\u001b[0m: 'str' object does not support item assignment"
     ]
    }
   ],
   "source": [
    "name[0]=\"N\""
   ]
  },
  {
   "cell_type": "code",
   "execution_count": 59,
   "id": "5e9cd5a2-c1da-4d06-b4c9-4ad6ef0405e6",
   "metadata": {},
   "outputs": [
    {
     "name": "stdout",
     "output_type": "stream",
     "text": [
      "Nike Hussey\n"
     ]
    }
   ],
   "source": [
    "# Re-assignment is allowed\n",
    "name=\"Nike Hussey\"\n",
    "print(name)"
   ]
  },
  {
   "cell_type": "markdown",
   "id": "4eba8500-4f49-47a0-b07c-1a0ef95ea2ed",
   "metadata": {},
   "source": [
    "# Python Built-in Functions"
   ]
  },
  {
   "cell_type": "code",
   "execution_count": null,
   "id": "637f009c-2d23-4c8a-af8c-d7e5fa88a17d",
   "metadata": {},
   "outputs": [],
   "source": [
    "greet=\"Helloooo\"\n",
    "print(greet[0:len(greet)])"
   ]
  },
  {
   "cell_type": "code",
   "execution_count": null,
   "id": "84196a83-e493-4291-ba77-b988768712ab",
   "metadata": {},
   "outputs": [],
   "source": [
    "quote = \"to be or not to be\""
   ]
  },
  {
   "cell_type": "code",
   "execution_count": null,
   "id": "120a8ca0-dc5c-4e21-ac6d-43089447fe30",
   "metadata": {},
   "outputs": [],
   "source": [
    "print(quote.upper())"
   ]
  },
  {
   "cell_type": "code",
   "execution_count": null,
   "id": "6c016c14-1895-4473-9db8-dbf045d470a3",
   "metadata": {},
   "outputs": [],
   "source": [
    "print(quote.capitalize())"
   ]
  },
  {
   "cell_type": "code",
   "execution_count": null,
   "id": "5c71e2cf-77e6-4539-b78d-0c347df8effb",
   "metadata": {},
   "outputs": [],
   "source": [
    "print(quote.lower())"
   ]
  },
  {
   "cell_type": "code",
   "execution_count": null,
   "id": "bed22dc1-1fcd-482f-935c-592d105d0a5d",
   "metadata": {},
   "outputs": [],
   "source": [
    "print(quote.find('be'))     # Does be exist in quote"
   ]
  },
  {
   "cell_type": "code",
   "execution_count": null,
   "id": "bf6a8f2e-3514-4225-a9c4-6e924628d8b7",
   "metadata": {},
   "outputs": [],
   "source": [
    "print(quote.replace('be', 'me'))  # Replace be with me"
   ]
  },
  {
   "cell_type": "code",
   "execution_count": null,
   "id": "eb1a52f4-0e06-438c-8b35-e4602e6ce461",
   "metadata": {},
   "outputs": [],
   "source": [
    "print(quote)"
   ]
  },
  {
   "cell_type": "markdown",
   "id": "5fd7ec14-5fe4-4c80-93b0-4f1de2524f86",
   "metadata": {},
   "source": [
    "# Boolean"
   ]
  },
  {
   "cell_type": "code",
   "execution_count": null,
   "id": "4fcd4f4a-a6d0-4f72-80cf-db25da4a46a2",
   "metadata": {},
   "outputs": [],
   "source": [
    "is_cold_outside=False\n",
    "print(is_cold_outside)"
   ]
  },
  {
   "cell_type": "code",
   "execution_count": null,
   "id": "fefa4ad9-12b3-4943-808d-4aeb261e5af5",
   "metadata": {},
   "outputs": [],
   "source": [
    "print(bool(1))"
   ]
  },
  {
   "cell_type": "markdown",
   "id": "ccd7220d-85e8-4185-bb33-a9ececcf5727",
   "metadata": {},
   "source": [
    "# Age Calculator"
   ]
  },
  {
   "cell_type": "markdown",
   "id": "659c40d3-94f5-4519-997c-bd99a6d13979",
   "metadata": {},
   "source": [
    "Write a program that calculates your age. e.g\n",
    "--------------\n",
    "Enter your birth year: 2000\n",
    "\n",
    "You are 24 years old."
   ]
  },
  {
   "cell_type": "code",
   "execution_count": null,
   "id": "08bab6a5-b61a-46f1-8e44-44f89ef11cfc",
   "metadata": {},
   "outputs": [],
   "source": [
    "birth_year = input(\"Enter your birth year\")\n",
    "age = 2024 - int(birth_year)\n",
    "print(f\"You are {age} years old.\")"
   ]
  },
  {
   "cell_type": "code",
   "execution_count": null,
   "id": "a8a12462-4ce8-4b9b-9679-dfcf7fa46b6f",
   "metadata": {},
   "outputs": [],
   "source": [
    "\n",
    "\n",
    "import datetime\n",
    "\n",
    "x = datetime.datetime.now()\n",
    "\n",
    "birth_year = input(\"Enter your birth year\")\n",
    "age = x.year - int(birth_year)\n",
    "print(f\"You are {age} years old.\")\n",
    "\n",
    "# print(x.year)\n",
    "# print(x.strftime(\"%A\"))\n"
   ]
  },
  {
   "cell_type": "markdown",
   "id": "d2bb0231-02c7-44cf-8d71-c77314d347f4",
   "metadata": {},
   "source": [
    "# Password Checker"
   ]
  },
  {
   "cell_type": "code",
   "execution_count": null,
   "id": "1379e361-f714-4824-8b8b-384d9110ce26",
   "metadata": {},
   "outputs": [],
   "source": [
    "user_name = input(\"Please enter your username: \")\n",
    "password = input(\"Please enter your password: \")\n",
    "\n",
    "password_length = len(password)\n",
    "hidden_password = '*' * password_length\n",
    "\n",
    "print(f'Hi {user_name}, your password {hidden_password}, is {password_length} letters long.')"
   ]
  },
  {
   "cell_type": "markdown",
   "id": "518cb88c-03ae-409a-a2f7-53b64e31ece9",
   "metadata": {},
   "source": [
    "# Lists"
   ]
  },
  {
   "cell_type": "markdown",
   "id": "406640d6-2602-459a-9670-8a98657c2283",
   "metadata": {},
   "source": [
    "A list is an ordered sequence of elements."
   ]
  },
  {
   "cell_type": "code",
   "execution_count": null,
   "id": "2be20e80-b1d6-4802-9e9f-a9e4a10fd504",
   "metadata": {},
   "outputs": [],
   "source": [
    "list1 = [\"abc\", 34, True, 40, \"xyz\"]\n",
    "\n",
    "print(list1)"
   ]
  },
  {
   "cell_type": "markdown",
   "id": "9fc1f602-adee-4b99-add2-7357acbd0d0c",
   "metadata": {},
   "source": [
    "# Lists Slicing"
   ]
  },
  {
   "cell_type": "code",
   "execution_count": null,
   "id": "71201edf-0689-4a29-ac96-5f7fa0cc4105",
   "metadata": {},
   "outputs": [],
   "source": [
    "amazon_cart=[\"notebooks\",\"sunglasses\",\"toys\",\"grapes\"]\n",
    "print(amazon_cart[0:2])"
   ]
  },
  {
   "cell_type": "code",
   "execution_count": null,
   "id": "d916ed6b-6857-4bed-8c30-fc534dbf6b29",
   "metadata": {},
   "outputs": [],
   "source": [
    "print(amazon_cart[::2])"
   ]
  },
  {
   "cell_type": "code",
   "execution_count": null,
   "id": "5f7d0ad1-0368-4f81-b1b2-1de83175ec9b",
   "metadata": {},
   "outputs": [],
   "source": [
    "amazon_cart[0]=\"Laptop\"\n",
    "print(amazon_cart)"
   ]
  },
  {
   "cell_type": "code",
   "execution_count": null,
   "id": "7c11636d-017f-46a5-b49c-d8668f6049cc",
   "metadata": {},
   "outputs": [],
   "source": []
  }
 ],
 "metadata": {
  "kernelspec": {
   "display_name": "Python 3 (ipykernel)",
   "language": "python",
   "name": "python3"
  },
  "language_info": {
   "codemirror_mode": {
    "name": "ipython",
    "version": 3
   },
   "file_extension": ".py",
   "mimetype": "text/x-python",
   "name": "python",
   "nbconvert_exporter": "python",
   "pygments_lexer": "ipython3",
   "version": "3.9.18"
  }
 },
 "nbformat": 4,
 "nbformat_minor": 5
}
