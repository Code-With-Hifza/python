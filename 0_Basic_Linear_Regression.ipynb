{
  "nbformat": 4,
  "nbformat_minor": 0,
  "metadata": {
    "colab": {
      "provenance": []
    },
    "kernelspec": {
      "name": "python3",
      "display_name": "Python 3"
    },
    "language_info": {
      "name": "python"
    }
  },
  "cells": [
    {
      "cell_type": "markdown",
      "source": [
        "**import important libereries**"
      ],
      "metadata": {
        "id": "Y-RHz94Z0WPJ"
      }
    },
    {
      "cell_type": "code",
      "execution_count": 24,
      "metadata": {
        "id": "SBtGG2iOzijc"
      },
      "outputs": [],
      "source": [
        "import torch\n",
        "import torch.nn as nn\n",
        "import numpy as np\n",
        "import matplotlib.pyplot as plt"
      ]
    },
    {
      "cell_type": "markdown",
      "source": [
        "**setup data**"
      ],
      "metadata": {
        "id": "ZOzMsWCz0cJf"
      }
    },
    {
      "cell_type": "code",
      "source": [
        "x_train = np.array([[3.3], [4.4], [5.5], [6.71], [6.93], [4.168],\n",
        "                    [9.779], [6.182], [7.59], [2.167], [7.042],\n",
        "                    [10.791], [5.313], [7.997], [3.1]], dtype=np.float32)\n",
        "\n",
        "y_train = np.array([[1.7], [2.76], [2.09], [3.19], [1.694], [1.573],\n",
        "                    [3.366], [2.596], [2.53], [1.221], [2.827],\n",
        "                    [3.465], [1.65], [2.904], [1.3]], dtype=np.float32)"
      ],
      "metadata": {
        "id": "AXBzL8NM0EMx"
      },
      "execution_count": 25,
      "outputs": []
    },
    {
      "cell_type": "markdown",
      "source": [
        "**lets visulize it**"
      ],
      "metadata": {
        "id": "NJRWLfNX0gnn"
      }
    },
    {
      "cell_type": "code",
      "source": [
        "fig=plt.figure(figsize=(10,5))\n",
        "plt.plot(x_train,y_train,'ro',label='Original Data')\n",
        "plt.xlabel('hours studied')\n",
        "plt.ylabel('Exam Score')\n",
        "plt.legend()\n",
        "plt.title('Exam Score Prediction')\n",
        "plt.show()"
      ],
      "metadata": {
        "colab": {
          "base_uri": "https://localhost:8080/",
          "height": 421
        },
        "id": "MaasY2Sn0R43",
        "outputId": "f644233c-3fec-46b4-9e20-f0c2840578a2"
      },
      "execution_count": 26,
      "outputs": [
        {
          "output_type": "display_data",
          "data": {
            "text/plain": [
              "<Figure size 1000x500 with 1 Axes>"
            ],
            "image/png": "[encoded data removed]"
          },
          "metadata": {}
        }
      ]
    },
    {
      "cell_type": "markdown",
      "source": [
        "**converting numpy arrays to pytorch tensors**"
      ],
      "metadata": {
        "id": "cj3aZaAe1XPP"
      }
    },
    {
      "cell_type": "code",
      "source": [
        "x_train=torch.from_numpy(x_train)\n",
        "y_train=torch.from_numpy(y_train)\n",
        "x_train,y_train"
      ],
      "metadata": {
        "colab": {
          "base_uri": "https://localhost:8080/"
        },
        "id": "vr7sH8aY1cSn",
        "outputId": "f145016c-5ddb-4823-90de-562a5d508d1d"
      },
      "execution_count": 27,
      "outputs": [
        {
          "output_type": "execute_result",
          "data": {
            "text/plain": [
              "(tensor([[ 3.3000],\n",
              "         [ 4.4000],\n",
              "         [ 5.5000],\n",
              "         [ 6.7100],\n",
              "         [ 6.9300],\n",
              "         [ 4.1680],\n",
              "         [ 9.7790],\n",
              "         [ 6.1820],\n",
              "         [ 7.5900],\n",
              "         [ 2.1670],\n",
              "         [ 7.0420],\n",
              "         [10.7910],\n",
              "         [ 5.3130],\n",
              "         [ 7.9970],\n",
              "         [ 3.1000]]),\n",
              " tensor([[1.7000],\n",
              "         [2.7600],\n",
              "         [2.0900],\n",
              "         [3.1900],\n",
              "         [1.6940],\n",
              "         [1.5730],\n",
              "         [3.3660],\n",
              "         [2.5960],\n",
              "         [2.5300],\n",
              "         [1.2210],\n",
              "         [2.8270],\n",
              "         [3.4650],\n",
              "         [1.6500],\n",
              "         [2.9040],\n",
              "         [1.3000]]))"
            ]
          },
          "metadata": {},
          "execution_count": 27
        }
      ]
    },
    {
      "cell_type": "markdown",
      "source": [
        "**Linear Regression Model**"
      ],
      "metadata": {
        "id": "whWMYwnz1p0-"
      }
    },
    {
      "cell_type": "code",
      "source": [
        "class LinearRegression(nn.Module):\n",
        "  def __init__(self):\n",
        "    super().__init__()\n",
        "    self.linear=nn.Linear(1,1)\n",
        "\n",
        "  def forward(self,x):\n",
        "    out=self.linear(x)\n",
        "    return out\n"
      ],
      "metadata": {
        "id": "Bcas4HC81cQW"
      },
      "execution_count": 28,
      "outputs": []
    },
    {
      "cell_type": "code",
      "source": [
        "model=LinearRegression()"
      ],
      "metadata": {
        "id": "_n5X1ukQ1cMZ"
      },
      "execution_count": 29,
      "outputs": []
    },
    {
      "cell_type": "code",
      "source": [
        "model"
      ],
      "metadata": {
        "colab": {
          "base_uri": "https://localhost:8080/"
        },
        "id": "Da6bmAjr1cKN",
        "outputId": "8bd69586-0277-4e0e-a89d-b105c18e0c45"
      },
      "execution_count": 30,
      "outputs": [
        {
          "output_type": "execute_result",
          "data": {
            "text/plain": [
              "LinearRegression(\n",
              "  (linear): Linear(in_features=1, out_features=1, bias=True)\n",
              ")"
            ]
          },
          "metadata": {},
          "execution_count": 30
        }
      ]
    },
    {
      "cell_type": "code",
      "source": [
        "list(model.parameters())"
      ],
      "metadata": {
        "colab": {
          "base_uri": "https://localhost:8080/"
        },
        "id": "G57pZ1Gb1cH7",
        "outputId": "3e8b2dbe-6163-4a4e-cb2f-6f36b07768f3"
      },
      "execution_count": 31,
      "outputs": [
        {
          "output_type": "execute_result",
          "data": {
            "text/plain": [
              "[Parameter containing:\n",
              " tensor([[0.4823]], requires_grad=True),\n",
              " Parameter containing:\n",
              " tensor([0.4829], requires_grad=True)]"
            ]
          },
          "metadata": {},
          "execution_count": 31
        }
      ]
    },
    {
      "cell_type": "markdown",
      "source": [
        "**loss function and optimizer**"
      ],
      "metadata": {
        "id": "rqnk0V3o2omh"
      }
    },
    {
      "cell_type": "code",
      "source": [
        "criterion=nn.MSELoss()\n",
        "optimizer=torch.optim.SGD(model.parameters(),lr=1e-4)"
      ],
      "metadata": {
        "id": "9Rs25dCr1cFw"
      },
      "execution_count": 32,
      "outputs": []
    },
    {
      "cell_type": "markdown",
      "source": [
        "***Training Loop***"
      ],
      "metadata": {
        "id": "b9qNhT1o29e3"
      }
    },
    {
      "cell_type": "code",
      "source": [
        "num_epochs=1000"
      ],
      "metadata": {
        "id": "GT9zLOSH1cDl"
      },
      "execution_count": 33,
      "outputs": []
    },
    {
      "cell_type": "code",
      "source": [
        "for epoch in range(num_epochs):\n",
        "  model.train()\n",
        "  out=model(x_train)\n",
        "  loss=criterion(out,y_train)\n",
        "  optimizer.zero_grad()\n",
        "  loss.backward()\n",
        "  optimizer.step()\n",
        "  if (epoch +1) % 20 == 0:\n",
        "    print(f'Epoch: [{epoch +1 } / num_epochs], Loss: {loss.item():.6f}')"
      ],
      "metadata": {
        "colab": {
          "base_uri": "https://localhost:8080/"
        },
        "id": "XNrftjIf1cCQ",
        "outputId": "c74974f2-381b-42ad-86e0-3f30cfbd2d9b"
      },
      "execution_count": 34,
      "outputs": [
        {
          "output_type": "stream",
          "name": "stdout",
          "text": [
            "Epoch: [20 / num_epochs], Loss: 1.213843\n",
            "Epoch: [40 / num_epochs], Loss: 0.910646\n",
            "Epoch: [60 / num_epochs], Loss: 0.696359\n",
            "Epoch: [80 / num_epochs], Loss: 0.544910\n",
            "Epoch: [100 / num_epochs], Loss: 0.437871\n",
            "Epoch: [120 / num_epochs], Loss: 0.362218\n",
            "Epoch: [140 / num_epochs], Loss: 0.308748\n",
            "Epoch: [160 / num_epochs], Loss: 0.270954\n",
            "Epoch: [180 / num_epochs], Loss: 0.244241\n",
            "Epoch: [200 / num_epochs], Loss: 0.225358\n",
            "Epoch: [220 / num_epochs], Loss: 0.212009\n",
            "Epoch: [240 / num_epochs], Loss: 0.202572\n",
            "Epoch: [260 / num_epochs], Loss: 0.195898\n",
            "Epoch: [280 / num_epochs], Loss: 0.191179\n",
            "Epoch: [300 / num_epochs], Loss: 0.187840\n",
            "Epoch: [320 / num_epochs], Loss: 0.185477\n",
            "Epoch: [340 / num_epochs], Loss: 0.183804\n",
            "Epoch: [360 / num_epochs], Loss: 0.182618\n",
            "Epoch: [380 / num_epochs], Loss: 0.181777\n",
            "Epoch: [400 / num_epochs], Loss: 0.181179\n",
            "Epoch: [420 / num_epochs], Loss: 0.180753\n",
            "Epoch: [440 / num_epochs], Loss: 0.180449\n",
            "Epoch: [460 / num_epochs], Loss: 0.180231\n",
            "Epoch: [480 / num_epochs], Loss: 0.180073\n",
            "Epoch: [500 / num_epochs], Loss: 0.179959\n",
            "Epoch: [520 / num_epochs], Loss: 0.179874\n",
            "Epoch: [540 / num_epochs], Loss: 0.179812\n",
            "Epoch: [560 / num_epochs], Loss: 0.179764\n",
            "Epoch: [580 / num_epochs], Loss: 0.179727\n",
            "Epoch: [600 / num_epochs], Loss: 0.179698\n",
            "Epoch: [620 / num_epochs], Loss: 0.179674\n",
            "Epoch: [640 / num_epochs], Loss: 0.179654\n",
            "Epoch: [660 / num_epochs], Loss: 0.179636\n",
            "Epoch: [680 / num_epochs], Loss: 0.179621\n",
            "Epoch: [700 / num_epochs], Loss: 0.179607\n",
            "Epoch: [720 / num_epochs], Loss: 0.179594\n",
            "Epoch: [740 / num_epochs], Loss: 0.179581\n",
            "Epoch: [760 / num_epochs], Loss: 0.179569\n",
            "Epoch: [780 / num_epochs], Loss: 0.179557\n",
            "Epoch: [800 / num_epochs], Loss: 0.179546\n",
            "Epoch: [820 / num_epochs], Loss: 0.179534\n",
            "Epoch: [840 / num_epochs], Loss: 0.179523\n",
            "Epoch: [860 / num_epochs], Loss: 0.179512\n",
            "Epoch: [880 / num_epochs], Loss: 0.179501\n",
            "Epoch: [900 / num_epochs], Loss: 0.179490\n",
            "Epoch: [920 / num_epochs], Loss: 0.179479\n",
            "Epoch: [940 / num_epochs], Loss: 0.179468\n",
            "Epoch: [960 / num_epochs], Loss: 0.179457\n",
            "Epoch: [980 / num_epochs], Loss: 0.179447\n",
            "Epoch: [1000 / num_epochs], Loss: 0.179436\n"
          ]
        }
      ]
    },
    {
      "cell_type": "markdown",
      "source": [
        "**Evaluate Your Model**"
      ],
      "metadata": {
        "id": "RGVefobz4PDU"
      }
    },
    {
      "cell_type": "code",
      "source": [
        "model.eval()\n",
        "with torch.no_grad():\n",
        "  predict=model(x_train)\n",
        "predict.data.numpy()"
      ],
      "metadata": {
        "colab": {
          "base_uri": "https://localhost:8080/"
        },
        "id": "Ebv8eH8V1cA2",
        "outputId": "8415e1a1-53af-41b7-b46b-9533f3e935a8"
      },
      "execution_count": 35,
      "outputs": [
        {
          "output_type": "execute_result",
          "data": {
            "text/plain": [
              "array([[1.4567918],\n",
              "       [1.7876031],\n",
              "       [2.1184146],\n",
              "       [2.4823072],\n",
              "       [2.5484695],\n",
              "       [1.7178321],\n",
              "       [3.4052713],\n",
              "       [2.3235178],\n",
              "       [2.7469563],\n",
              "       [1.116056 ],\n",
              "       [2.5821521],\n",
              "       [3.7096179],\n",
              "       [2.0621767],\n",
              "       [2.8693566],\n",
              "       [1.3966442]], dtype=float32)"
            ]
          },
          "metadata": {},
          "execution_count": 35
        }
      ]
    },
    {
      "cell_type": "markdown",
      "source": [
        "**Visulizeing the model**"
      ],
      "metadata": {
        "id": "U_PZuzth4q4E"
      }
    },
    {
      "cell_type": "code",
      "source": [
        "fig=plt.figure(figsize=(10,5))\n",
        "plt.plot(x_train.numpy(),y_train.numpy(),'ro',label='Original Data')\n",
        "plt.plot(x_train.numpy(),predict,label='Fitted Line')\n",
        "plt.xlabel('Hours studied')\n",
        "plt.ylabel('exam score')\n",
        "plt.legend()\n",
        "plt.title('exam score prediction')\n",
        "plt.show()\n"
      ],
      "metadata": {
        "colab": {
          "base_uri": "https://localhost:8080/",
          "height": 421
        },
        "id": "ceCy02hH1b_m",
        "outputId": "794f287d-0b5a-46ea-8ed2-174d30ff9510"
      },
      "execution_count": 36,
      "outputs": [
        {
          "output_type": "display_data",
          "data": {
            "text/plain": [
              "<Figure size 1000x500 with 1 Axes>"
            ],
            "image/png": "[encoded data removed]"
          },
          "metadata": {}
        }
      ]
    },
    {
      "cell_type": "code",
      "source": [
        "list(model.parameters())"
      ],
      "metadata": {
        "colab": {
          "base_uri": "https://localhost:8080/"
        },
        "id": "V7sgQ6n31b8t",
        "outputId": "667d0605-f0de-4571-8556-7c489cb42ff4"
      },
      "execution_count": 37,
      "outputs": [
        {
          "output_type": "execute_result",
          "data": {
            "text/plain": [
              "[Parameter containing:\n",
              " tensor([[0.3007]], requires_grad=True),\n",
              " Parameter containing:\n",
              " tensor([0.4644], requires_grad=True)]"
            ]
          },
          "metadata": {},
          "execution_count": 37
        }
      ]
    },
    {
      "cell_type": "markdown",
      "source": [
        "**test model with new data point**"
      ],
      "metadata": {
        "id": "7KIwv7b_5sif"
      }
    },
    {
      "cell_type": "code",
      "source": [
        "new_hours_studied=8.0\n",
        "new_hours_tensor=torch.tensor([[new_hours_studied]],dtype=torch.float32)"
      ],
      "metadata": {
        "id": "QM0T2W_i1b6w"
      },
      "execution_count": 38,
      "outputs": []
    },
    {
      "cell_type": "code",
      "source": [
        "model.eval()\n",
        "with torch.no_grad():\n",
        " new_exam_score=model(new_hours_tensor)\n",
        "print('predicted sxam score for a student who studied for 8 hours ', new_exam_score.item())"
      ],
      "metadata": {
        "colab": {
          "base_uri": "https://localhost:8080/"
        },
        "id": "_0_bH_PX1b4x",
        "outputId": "f09325d3-1b14-4c5b-a0d9-2e900b3c674b"
      },
      "execution_count": 39,
      "outputs": [
        {
          "output_type": "stream",
          "name": "stdout",
          "text": [
            "predicted sxam score for a student who studied for 8 hours  2.8702588081359863\n"
          ]
        }
      ]
    },
    {
      "cell_type": "markdown",
      "source": [
        "Visulizing new data point"
      ],
      "metadata": {
        "id": "3_KRdoRl6mni"
      }
    },
    {
      "cell_type": "code",
      "source": [
        "fig=plt.figure(figsize=(10,5))\n",
        "plt.plot(x_train.numpy(),y_train.numpy(),'ro',label='original')\n",
        "plt.plot(x_train.numpy(),predict,label='fitted line')\n",
        "plt.scatter([new_hours_studied],[new_exam_score.item()],color='blue',label='new_data_point')\n",
        "plt.xlabel('hours studied')\n",
        "plt.ylabel('exam score')\n",
        "plt.legend()\n",
        "plt.title('Exam score prediction')\n",
        "plt.show()"
      ],
      "metadata": {
        "colab": {
          "base_uri": "https://localhost:8080/",
          "height": 421
        },
        "id": "bP2q0K3w1b2f",
        "outputId": "f520e142-d01d-43be-edf8-ec436f807095"
      },
      "execution_count": 40,
      "outputs": [
        {
          "output_type": "display_data",
          "data": {
            "text/plain": [
              "<Figure size 1000x500 with 1 Axes>"
            ],
            "image/png": "[encoded data removed]"
          },
          "metadata": {}
        }
      ]
    },
    {
      "cell_type": "markdown",
      "source": [
        "**Save the model**"
      ],
      "metadata": {
        "id": "woOLbjRK7mvZ"
      }
    },
    {
      "cell_type": "code",
      "source": [
        "model.state_dict()"
      ],
      "metadata": {
        "colab": {
          "base_uri": "https://localhost:8080/"
        },
        "id": "VxWqoGOf1b0T",
        "outputId": "e2d24c7d-526c-496d-8a58-8c7a9ae7bcd5"
      },
      "execution_count": 41,
      "outputs": [
        {
          "output_type": "execute_result",
          "data": {
            "text/plain": [
              "OrderedDict([('linear.weight', tensor([[0.3007]])),\n",
              "             ('linear.bias', tensor([0.4644]))])"
            ]
          },
          "metadata": {},
          "execution_count": 41
        }
      ]
    },
    {
      "cell_type": "code",
      "source": [
        "torch.save(model.state_dict(),'./linearregression.pth')"
      ],
      "metadata": {
        "id": "23pk3w-E1bx6"
      },
      "execution_count": 42,
      "outputs": []
    },
    {
      "cell_type": "code",
      "source": [],
      "metadata": {
        "id": "hrIgCrWg1bvY"
      },
      "execution_count": 42,
      "outputs": []
    },
    {
      "cell_type": "code",
      "source": [],
      "metadata": {
        "id": "ahGznHZF1brZ"
      },
      "execution_count": 42,
      "outputs": []
    },
    {
      "cell_type": "code",
      "source": [],
      "metadata": {
        "id": "w03scx3Y1bpO"
      },
      "execution_count": 42,
      "outputs": []
    },
    {
      "cell_type": "code",
      "source": [],
      "metadata": {
        "id": "6SDZRMv91bnG"
      },
      "execution_count": 42,
      "outputs": []
    },
    {
      "cell_type": "code",
      "source": [],
      "metadata": {
        "id": "DhwcG8Ly1blJ"
      },
      "execution_count": 42,
      "outputs": []
    },
    {
      "cell_type": "code",
      "source": [],
      "metadata": {
        "id": "Wd735BVy1bjU"
      },
      "execution_count": 42,
      "outputs": []
    },
    {
      "cell_type": "code",
      "source": [],
      "metadata": {
        "id": "5FQEX9m71bg2"
      },
      "execution_count": 42,
      "outputs": []
    },
    {
      "cell_type": "code",
      "source": [],
      "metadata": {
        "id": "G1qTeMGR1ben"
      },
      "execution_count": 42,
      "outputs": []
    },
    {
      "cell_type": "code",
      "source": [],
      "metadata": {
        "id": "hyJoXkaF1bcH"
      },
      "execution_count": 42,
      "outputs": []
    },
    {
      "cell_type": "code",
      "source": [],
      "metadata": {
        "id": "2G3NwwOM1Qxg"
      },
      "execution_count": 42,
      "outputs": []
    }
  ]
}