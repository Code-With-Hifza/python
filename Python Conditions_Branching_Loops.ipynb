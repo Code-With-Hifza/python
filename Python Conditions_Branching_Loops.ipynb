{
 "cells": [
  {
   "cell_type": "markdown",
   "metadata": {},
   "source": [
    "# Conditions/Branching and Looping\n",
    "\n",
    "The notebook covers example on the following topics;\n",
    "* Condition Statements\n",
    "    * If Statement (if)\n",
    "    * If-Else Statement (if else)\n",
    "    * If-Else If Statement (if elif)\n",
    "* Looping\n",
    "    * For Loop\n",
    "    * While Loop"
   ]
  },
  {
   "cell_type": "markdown",
   "metadata": {},
   "source": [
    "## If Statement\n",
    "If statements checks a condition and executes a block of code if the condition is true"
   ]
  },
  {
   "cell_type": "code",
   "execution_count": 3,
   "metadata": {},
   "outputs": [],
   "source": [
    "3ensibly\")"
   ]
  },
  {
   "cell_type": "markdown",
   "metadata": {},
   "source": [
    "## If Else Statement\n",
    "If Else statement checks a condition and executes a block of code if the condition is true, otherwise (if the condition is not true) another block of code is executed"
   ]
  },
  {
   "cell_type": "code",
   "execution_count": 4,
   "metadata": {},
   "outputs": [
    {
     "name": "stdout",
     "output_type": "stream",
     "text": [
      "You are too young to vote\n"
     ]
    }
   ],
   "source": [
    "age = 17\n",
    "if(age >= 18):\n",
    "    print(\"You can vote\")\n",
    "else:\n",
    "    print(\"You are too young to vote\")"
   ]
  },
  {
   "cell_type": "markdown",
   "metadata": {},
   "source": [
    "## If Else If Statement\n",
    "If else if statement is used to check a number of conditions, and depending upon the condition, a specific block of code is executed."
   ]
  },
  {
   "cell_type": "code",
   "execution_count": 5,
   "metadata": {},
   "outputs": [
    {
     "name": "stdout",
     "output_type": "stream",
     "text": [
      "B+\n"
     ]
    }
   ],
   "source": [
    "marks = 85\n",
    "if(marks >= 90):\n",
    "    print(\"A+\")\n",
    "elif(marks >= 80):\n",
    "    print(\"B+\")\n",
    "else:\n",
    "    print(\"Too bad\")"
   ]
  },
  {
   "cell_type": "markdown",
   "metadata": {},
   "source": [
    "## and / or conditions\n",
    "Multiple conditions can be checked in a single if statement using __and__/__or__ statements"
   ]
  },
  {
   "cell_type": "code",
   "execution_count": 12,
   "metadata": {},
   "outputs": [
    {
     "name": "stdout",
     "output_type": "stream",
     "text": [
      "No probabation\n"
     ]
    }
   ],
   "source": [
    "sgpa = 3.0\n",
    "cgpa = 1.1\n",
    "\n",
    "if(sgpa >= 2.5) or (cgpa >= 2):\n",
    "    print(\"No probabation\")\n",
    "else:\n",
    "    print(\"Probabation\")"
   ]
  },
  {
   "cell_type": "markdown",
   "metadata": {},
   "source": [
    "## Range Function\n",
    "\n",
    "* range(N) returns a list of integers from 0,… , N-1 \n",
    "    * range(5) =>  [0,1,2,3,4]\n",
    "    * range(5,10) =>  [5,6,7,8,9]"
   ]
  },
  {
   "cell_type": "markdown",
   "metadata": {},
   "source": [
    "## For Loop"
   ]
  },
  {
   "cell_type": "code",
   "execution_count": 38,
   "metadata": {},
   "outputs": [
    {
     "name": "stdout",
     "output_type": "stream",
     "text": [
      "['red', 'black', 'yellow', 'purple', 'green']\n"
     ]
    }
   ],
   "source": [
    "squares = [\"red\", \"black\", \"yellow\", \"purple\", \"green\"]\n",
    "print(squares)"
   ]
  },
  {
   "cell_type": "code",
   "execution_count": 39,
   "metadata": {},
   "outputs": [],
   "source": [
    "for i in range(0,5):\n",
    "    squares[i] = \"white\""
   ]
  },
  {
   "cell_type": "code",
   "execution_count": 40,
   "metadata": {},
   "outputs": [
    {
     "name": "stdout",
     "output_type": "stream",
     "text": [
      "['white', 'white', 'white', 'white', 'white']\n"
     ]
    }
   ],
   "source": [
    "print(squares)"
   ]
  },
  {
   "cell_type": "markdown",
   "metadata": {},
   "source": [
    "### For Loop using  _in_"
   ]
  },
  {
   "cell_type": "code",
   "execution_count": 6,
   "metadata": {},
   "outputs": [
    {
     "name": "stdout",
     "output_type": "stream",
     "text": [
      "red\n",
      "black\n",
      "yellow\n",
      "purple\n",
      "green\n"
     ]
    }
   ],
   "source": [
    "squares = [\"red\", \"black\", \"yellow\", \"purple\", \"green\"]\n",
    "for it in squares:\n",
    "    print(it)"
   ]
  },
  {
   "cell_type": "markdown",
   "metadata": {},
   "source": [
    "### For Loop using _enumerate_"
   ]
  },
  {
   "cell_type": "code",
   "execution_count": 8,
   "metadata": {
    "scrolled": true
   },
   "outputs": [
    {
     "name": "stdout",
     "output_type": "stream",
     "text": [
      "0 red\n",
      "1 black\n",
      "2 yellow\n",
      "3 purple\n",
      "4 green\n"
     ]
    }
   ],
   "source": [
    "squares = [\"red\", \"black\", \"yellow\", \"purple\", \"green\"]\n",
    "for i,sq in enumerate(squares):\n",
    "    print(i,sq)"
   ]
  },
  {
   "cell_type": "markdown",
   "metadata": {},
   "source": [
    "## Using _while_ Statement"
   ]
  },
  {
   "cell_type": "code",
   "execution_count": 43,
   "metadata": {},
   "outputs": [
    {
     "data": {
      "text/plain": [
       "['red', 'red']"
      ]
     },
     "execution_count": 43,
     "metadata": {},
     "output_type": "execute_result"
    }
   ],
   "source": [
    "squares = [\"red\", \"black\", \"red\", \"purple\", \"green\"]\n",
    "new_squares = []\n",
    "\n",
    "i=0\n",
    "\n",
    "while(i < len(squares)):\n",
    "    if(squares[i]==\"red\"):\n",
    "        new_squares.append(squares[i])\n",
    "    i= i + 1\n",
    "\n",
    "new_squares"
   ]
  },
  {
   "cell_type": "markdown",
   "metadata": {},
   "source": [
    "# Contiue Statement"
   ]
  },
  {
   "cell_type": "markdown",
   "metadata": {},
   "source": [
    "With the continue statement we can stop the current iteration, and continue with the next:"
   ]
  },
  {
   "cell_type": "code",
   "execution_count": 1,
   "metadata": {},
   "outputs": [
    {
     "name": "stdout",
     "output_type": "stream",
     "text": [
      "1\n",
      "2\n",
      "4\n",
      "5\n",
      "6\n"
     ]
    }
   ],
   "source": [
    "i = 0\n",
    "while i < 6:\n",
    "  i += 1\n",
    "  if i == 3:\n",
    "    continue\n",
    "  print(i)"
   ]
  },
  {
   "cell_type": "markdown",
   "metadata": {},
   "source": [
    "# Break Statement"
   ]
  },
  {
   "cell_type": "markdown",
   "metadata": {},
   "source": [
    "With the break statement we can stop the loop even if the while condition is true:"
   ]
  },
  {
   "cell_type": "code",
   "execution_count": 9,
   "metadata": {},
   "outputs": [
    {
     "name": "stdout",
     "output_type": "stream",
     "text": [
      "1\n",
      "2\n"
     ]
    }
   ],
   "source": [
    "i = 1\n",
    "while i < 6:\n",
    "  \n",
    "  if i == 3:\n",
    "    break\n",
    "  print(i)\n",
    "  i += 1"
   ]
  },
  {
   "cell_type": "code",
   "execution_count": null,
   "metadata": {},
   "outputs": [],
   "source": []
  }
 ],
 "metadata": {
  "kernelspec": {
   "display_name": "Python 3 (ipykernel)",
   "language": "python",
   "name": "python3"
  },
  "language_info": {
   "codemirror_mode": {
    "name": "ipython",
    "version": 3
   },
   "file_extension": ".py",
   "mimetype": "text/x-python",
   "name": "python",
   "nbconvert_exporter": "python",
   "pygments_lexer": "ipython3",
   "version": "3.9.18"
  }
 },
 "nbformat": 4,
 "nbformat_minor": 4
}
